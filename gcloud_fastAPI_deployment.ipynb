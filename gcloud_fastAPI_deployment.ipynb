{
 "cells": [
  {
   "cell_type": "markdown",
   "id": "0843bd59",
   "metadata": {},
   "source": [
    "### GCP Setup"
   ]
  },
  {
   "cell_type": "code",
   "execution_count": null,
   "id": "9ec03cd6",
   "metadata": {
    "vscode": {
     "languageId": "shellscript"
    }
   },
   "outputs": [],
   "source": [
    "# Install/upgrade gcloud & Docker\n",
    "gcloud --version\n",
    "docker --version\n",
    "\n",
    "# Log in to Google Cloud & set project/region\n",
    "PROJECT_ID=debaagent-e2d1c\n",
    "REGION=europe-west1\n",
    "gcloud auth login\n",
    "gcloud config set project $PROJECT_ID\n",
    "gcloud config set run/region $REGION\n",
    "\n",
    "# Enable APIs (idempotent)\n",
    "gcloud services enable run.googleapis.com\\\n",
    " artifactregistry.googleapis.com\\\n",
    "  secretmanager.googleapis.com\\\n",
    "   firestore.googleapis.com"
   ]
  },
  {
   "cell_type": "markdown",
   "id": "9034f9e9",
   "metadata": {},
   "source": [
    "### Service Account and IAM"
   ]
  },
  {
   "cell_type": "code",
   "execution_count": null,
   "id": "c44f074e",
   "metadata": {
    "vscode": {
     "languageId": "shellscript"
    }
   },
   "outputs": [],
   "source": [
    "SA_NAME=debaagent-app\n",
    "SA_EMAIL=\"$SA_NAME@$PROJECT_ID.iam.gserviceaccount.com\"\n",
    "\n",
    "# Create SA\n",
    "gcloud iam service-accounts create $SA_NAME display-name \"Deba Agent SA\" 2>/dev/null || true #ignores errors and keeps running if SA already exists\n",
    "\n",
    "#Firestore and Secret Manager Access for SA Account\n",
    "gcloud projects add-iam-policy-binding $PROJECT_ID --member=\"serviceAccount:$SA_EMAIL\" --role=\"roles/datastore.user\"\n",
    "gcloud projects add-iam-policy-binding $PROJECT_ID --member=\"serviceAccount:$SA_EMAIL\" --role=\"roles/secretmanager.secretAccessor\""
   ]
  },
  {
   "cell_type": "markdown",
   "id": "b599e605",
   "metadata": {},
   "source": [
    "### Secrets"
   ]
  },
  {
   "cell_type": "code",
   "execution_count": null,
   "id": "52d0ecfc",
   "metadata": {
    "vscode": {
     "languageId": "shellscript"
    }
   },
   "outputs": [],
   "source": [
    "echo -n \"sk-proj-PUT_IN_KEY\" | gcloud secrets create OPENAI_API_KEY --data-file=- 2>/dev/null \\\n",
    "|| echo -n \"sk-proj-PUT_IN_KEY\" | gcloud secrets versions add OPENAI_API_KEY --data-file=-\n",
    "\n",
    "#This structure attempts to create the API-key, and ignores errors if already existing. Then the second line proceesds to update the API key in that case\n",
    "\n",
    "#Repeat this for other Keys"
   ]
  },
  {
   "cell_type": "markdown",
   "id": "47733656",
   "metadata": {},
   "source": [
    "### Dockerfile (+ dockerignore)"
   ]
  },
  {
   "cell_type": "markdown",
   "id": "c685dd42",
   "metadata": {},
   "source": [
    "FROM python:3.11-slim\n",
    "ENV PYTHONUNBUFFERED=1 PIP_NO_CACHE_DIR=1\n",
    "WORKDIR /app\n",
    "\n",
    "COPY requirements.txt .\n",
    "RUN pip install --no-cache-dir -r requirements.txt\n",
    "\n",
    "COPY . .\n",
    "EXPOSE 8080\n",
    "CMD [\"sh\",\"-c\",\"uvicorn deba_app:app --host 0.0.0.0 --port ${PORT:-8080}\"]"
   ]
  },
  {
   "cell_type": "markdown",
   "id": "d5141cd5",
   "metadata": {},
   "source": [
    "### Build and push Dockerfile"
   ]
  },
  {
   "cell_type": "code",
   "execution_count": null,
   "id": "481331cb",
   "metadata": {
    "vscode": {
     "languageId": "shellscript"
    }
   },
   "outputs": [],
   "source": [
    "REPO=debaagent\n",
    "IMAGE_NAME=debaagent\n",
    "AR_IMAGE=\"$REGION-docker.pkg.dev/$PROJECT_ID/$REPO/$IMAGE_NAME:latest\"\n",
    "\n",
    "# create repo\n",
    "gcloud artifacts repositories create $REPO\\\n",
    "  --repository-format=docker \\\n",
    "  --location=$REGION \\\n",
    "  --description=\"debaagent images\" 2>/dev/null || true\n",
    "\n",
    "#auth Docker\n",
    "gcloud auth configure-docker $REGION-docker.pkg.dev\n",
    "\n",
    "#buildx (because of silicon) with cache\n",
    "AR_CACHE=\"$REGION-docker.pkg.dev/$PROJECT_ID/$REPO/$IMAGE_Name:cache\"\n",
    "docker buildx create --use 2>/dev/null || true  #ensures a buildx builder instance exists and is set as a default\n",
    "docker buildx build \\\n",
    "  --platform linux/amd64 \\\n",
    "  -t \"$AR_IMAGE\" \\\n",
    "  --cache-from type=registry,ref=\"$AR_CACHE\" \\\n",
    "  --cache-to type=registry,ref=\"$AR_CACHE\",mode=max \\\n",
    "  --push .\n",
    "\n",
    "  # Above invokes docker buildx (supports platform and cache)\n",
    "  # platform: architecture for which image is built (our case: we build on silicon for cloud servers)\n",
    "  # -t (tag) -> tags the image with the artifact registry path\n",
    "  # cache-from takes what is already cached\n",
    "  # cache-to pushes layers to artifact registry for reuse\n",
    "  # push . pushes to artifact registry\n",
    "\n",
    "# if you want to push with nothing else involved you do\n",
    "# docker buildx build -t \"$AR_IMG\" --push .\n"
   ]
  },
  {
   "cell_type": "markdown",
   "id": "63a357a0",
   "metadata": {},
   "source": [
    "### Deploy to Cloud"
   ]
  },
  {
   "cell_type": "code",
   "execution_count": null,
   "id": "c74220c1",
   "metadata": {
    "vscode": {
     "languageId": "shellscript"
    }
   },
   "outputs": [],
   "source": [
    "SVC=debaagent\n",
    "SA_EMAIL=\"$SA_NAME@$PROJECT_ID.iam.gserviceaccount.com\"\n",
    "\n",
    "gcloud run deploy $SVC \\\n",
    "  --image \"$AR_IMAGE\" \\\n",
    "  --region \"$REGION\" \\\n",
    "  --allow-unauthenticated \\\n",
    "  --set-env-vars PROJECT_ID=\"$PROJECT_ID\" \\\n",
    "  --update-secrets OPENAI_API_KEY=OPENAI_API_KEY:latest,DB_CLIENT_ID=DB_CLIENT_ID:latest,DB_CLIENT_API_KEY=DB_CLIENT_API_KEY:latest\n",
    "--"
   ]
  },
  {
   "cell_type": "markdown",
   "id": "17da9e06",
   "metadata": {
    "vscode": {
     "languageId": "shellscript"
    }
   },
   "source": [
    "### get URL"
   ]
  },
  {
   "cell_type": "code",
   "execution_count": null,
   "id": "f0827a31",
   "metadata": {
    "vscode": {
     "languageId": "shellscript"
    }
   },
   "outputs": [],
   "source": [
    "SERVICE_URL=$(glcoud run services describe $SVC --region $REGION --format=\"value(status.url)\")\n",
    "echo \"$SERVICE_URL\""
   ]
  }
 ],
 "metadata": {
  "language_info": {
   "name": "python"
  }
 },
 "nbformat": 4,
 "nbformat_minor": 5
}
