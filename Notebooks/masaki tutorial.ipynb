{
 "cells": [
  {
   "cell_type": "code",
   "execution_count": 1,
   "id": "3eb9bfe6-fe0a-4771-b67f-2dafbf99814e",
   "metadata": {
    "execution": {
     "iopub.execute_input": "2025-08-19T16:07:24.394670Z",
     "iopub.status.busy": "2025-08-19T16:07:24.394058Z",
     "iopub.status.idle": "2025-08-19T16:07:33.175951Z",
     "shell.execute_reply": "2025-08-19T16:07:33.175580Z",
     "shell.execute_reply.started": "2025-08-19T16:07:24.394621Z"
    }
   },
   "outputs": [],
   "source": [
    "import pandas as pd\n",
    "import numpy as np\n",
    "import matplotlib.pyplot as plt\n",
    "\n"
   ]
  },
  {
   "cell_type": "code",
   "execution_count": null,
   "id": "78cecf09-45c3-4e52-8e80-b382c32e09bf",
   "metadata": {},
   "outputs": [],
   "source": []
  }
 ],
 "metadata": {
  "kernelspec": {
   "display_name": "Python 3 (ipykernel)",
   "language": "python",
   "name": "python3"
  },
  "language_info": {
   "codemirror_mode": {
    "name": "ipython",
    "version": 3
   },
   "file_extension": ".py",
   "mimetype": "text/x-python",
   "name": "python",
   "nbconvert_exporter": "python",
   "pygments_lexer": "ipython3",
   "version": "3.12.9"
  }
 },
 "nbformat": 4,
 "nbformat_minor": 5
}
